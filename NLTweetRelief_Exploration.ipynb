{
 "cells": [
  {
   "cell_type": "code",
   "execution_count": 1,
   "id": "ruled-graph",
   "metadata": {},
   "outputs": [],
   "source": [
    "import pickle as pkl"
   ]
  },
  {
   "cell_type": "code",
   "execution_count": 23,
   "id": "applicable-wages",
   "metadata": {},
   "outputs": [],
   "source": [
    "with open('artifacts/distilbert_all_perf_dev_t50_b32.pkl','rb') as file:\n",
    "    d = pkl.load(file)"
   ]
  },
  {
   "cell_type": "code",
   "execution_count": null,
   "id": "meaning-adult",
   "metadata": {},
   "outputs": [],
   "source": []
  },
  {
   "cell_type": "code",
   "execution_count": 26,
   "id": "chubby-render",
   "metadata": {},
   "outputs": [
    {
     "name": "stdout",
     "output_type": "stream",
     "text": [
      "\n",
      "weighted\n",
      "\n",
      "       precision     recall   accuracy         F1\n",
      "count  50.000000  50.000000  50.000000  50.000000\n",
      "mean    0.828700   0.829369   0.829369   0.826292\n",
      "std     0.007008   0.006600   0.006600   0.006928\n",
      "min     0.813633   0.815791   0.815791   0.811983\n",
      "25%     0.824900   0.825167   0.825167   0.822015\n",
      "50%     0.828349   0.829119   0.829119   0.825622\n",
      "75%     0.833175   0.833391   0.833391   0.829888\n",
      "max     0.845750   0.846837   0.846837   0.844047\n",
      "\n",
      "micro\n",
      "\n",
      "       precision     recall   accuracy         F1\n",
      "count  50.000000  50.000000  50.000000  50.000000\n",
      "mean    0.829369   0.829369   0.829369   0.829369\n",
      "std     0.006600   0.006600   0.006600   0.006600\n",
      "min     0.815791   0.815791   0.815791   0.815791\n",
      "25%     0.825167   0.825167   0.825167   0.825167\n",
      "50%     0.829119   0.829119   0.829119   0.829119\n",
      "75%     0.833391   0.833391   0.833391   0.833391\n",
      "max     0.846837   0.846837   0.846837   0.846837\n",
      "\n",
      "macro\n",
      "\n",
      "       precision     recall   accuracy         F1\n",
      "count  50.000000  50.000000  50.000000  50.000000\n",
      "mean    0.797962   0.785082   0.829369   0.785582\n",
      "std     0.014370   0.022942   0.006600   0.018251\n",
      "min     0.772407   0.736284   0.815791   0.745168\n",
      "25%     0.785900   0.768315   0.825167   0.775242\n",
      "50%     0.798639   0.788615   0.829119   0.787484\n",
      "75%     0.808721   0.800180   0.833391   0.798354\n",
      "max     0.835160   0.827084   0.846837   0.818091\n"
     ]
    }
   ],
   "source": [
    "import pandas as pd\n",
    "types = ['weighted','micro','macro']\n",
    "\n",
    "for t in types:\n",
    "    print(\"\\n{}\\n\".format(t))\n",
    "    dataset = [d[k][t] for k in d.keys()]\n",
    "    df = pd.DataFrame(dataset)\n",
    "    print(df.describe())"
   ]
  },
  {
   "cell_type": "code",
   "execution_count": 10,
   "id": "minor-penguin",
   "metadata": {},
   "outputs": [
    {
     "name": "stdout",
     "output_type": "stream",
     "text": [
      "weighted\n",
      "       precision     recall   accuracy         F1\n",
      "count  10.000000  10.000000  10.000000  10.000000\n",
      "mean    0.687386   0.693080   0.693080   0.685560\n",
      "std     0.004633   0.004141   0.004141   0.004255\n",
      "min     0.679786   0.686595   0.686595   0.678987\n",
      "25%     0.684969   0.691263   0.691263   0.683809\n",
      "50%     0.688382   0.693496   0.693496   0.686272\n",
      "75%     0.690198   0.695610   0.695610   0.688013\n",
      "max     0.694759   0.699827   0.699827   0.692527\n"
     ]
    },
    {
     "ename": "NameError",
     "evalue": "name 'sys' is not defined",
     "output_type": "error",
     "traceback": [
      "\u001b[0;31m---------------------------------------------------------------------------\u001b[0m",
      "\u001b[0;31mNameError\u001b[0m                                 Traceback (most recent call last)",
      "\u001b[0;32m<ipython-input-10-a995bdf89614>\u001b[0m in \u001b[0;36m<module>\u001b[0;34m\u001b[0m\n\u001b[1;32m      7\u001b[0m     \u001b[0mdf\u001b[0m \u001b[0;34m=\u001b[0m \u001b[0mpd\u001b[0m\u001b[0;34m.\u001b[0m\u001b[0mDataFrame\u001b[0m\u001b[0;34m(\u001b[0m\u001b[0mdataset\u001b[0m\u001b[0;34m)\u001b[0m\u001b[0;34m\u001b[0m\u001b[0;34m\u001b[0m\u001b[0m\n\u001b[1;32m      8\u001b[0m     \u001b[0mprint\u001b[0m\u001b[0;34m(\u001b[0m\u001b[0mdf\u001b[0m\u001b[0;34m.\u001b[0m\u001b[0mdescribe\u001b[0m\u001b[0;34m(\u001b[0m\u001b[0;34m)\u001b[0m\u001b[0;34m)\u001b[0m\u001b[0;34m\u001b[0m\u001b[0;34m\u001b[0m\u001b[0m\n\u001b[0;32m----> 9\u001b[0;31m     \u001b[0msys\u001b[0m\u001b[0;34m.\u001b[0m\u001b[0mexit\u001b[0m\u001b[0;34m(\u001b[0m\u001b[0;36m1\u001b[0m\u001b[0;34m)\u001b[0m\u001b[0;34m\u001b[0m\u001b[0;34m\u001b[0m\u001b[0m\n\u001b[0m",
      "\u001b[0;31mNameError\u001b[0m: name 'sys' is not defined"
     ]
    }
   ],
   "source": [
    "import pandas as pd\n",
    "types = ['weighted','micro','macro']\n",
    "\n",
    "for ty in types:\n",
    "    print(ty)\n",
    "    dataset = [t[k][ty] for k in t.keys()]\n",
    "    df = pd.DataFrame(dataset)\n",
    "    print(df.describe())\n",
    "    sys.exit(1)"
   ]
  },
  {
   "cell_type": "code",
   "execution_count": null,
   "id": "taken-wednesday",
   "metadata": {},
   "outputs": [],
   "source": []
  }
 ],
 "metadata": {
  "kernelspec": {
   "display_name": "nlp_env",
   "language": "python",
   "name": "nlpenv"
  },
  "language_info": {
   "codemirror_mode": {
    "name": "ipython",
    "version": 3
   },
   "file_extension": ".py",
   "mimetype": "text/x-python",
   "name": "python",
   "nbconvert_exporter": "python",
   "pygments_lexer": "ipython3",
   "version": "3.8.8"
  }
 },
 "nbformat": 4,
 "nbformat_minor": 5
}
