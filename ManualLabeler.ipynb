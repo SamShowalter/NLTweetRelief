{
 "cells": [
  {
   "cell_type": "markdown",
   "id": "southern-cheat",
   "metadata": {},
   "source": [
    "# Manual Labeling Interface: NLP\n",
    "\n",
    "Sam Showalter\n",
    "\n",
    "2021-06-01"
   ]
  },
  {
   "cell_type": "markdown",
   "id": "assured-group",
   "metadata": {},
   "source": [
    "Welcome to hell. This is where you will manually tag 4 articles for humanitarian categories so that we can log performance. Get comfortable, this should be fun"
   ]
  },
  {
   "cell_type": "markdown",
   "id": "extraordinary-cricket",
   "metadata": {},
   "source": [
    "## Recommended Approach\n",
    "\n",
    "- I will send out a picture that maps the label codes to the word labels for your reference. Keep that puppy up on your screen somewhere\n",
    "- I will also generate a \"qual_samples_{your_name}.pkl\" file for you. This will provide you the tokens for your article as well as the predicted labels. The predicted labels will likely not be completely right, which is where you come in\n",
    "- Using the legend, copy over the output into a text file. The script below will print the lines, one at a time, with the predictions. Use this as your starting point, and work your way through them.\n",
    "- Once you are done, copy that list of lists back into Jupyter, and save it in a dictionary where the key is the article name and the values are the list of lists that represent the gold labels"
   ]
  },
  {
   "cell_type": "code",
   "execution_count": 4,
   "id": "advised-classics",
   "metadata": {},
   "outputs": [],
   "source": [
    "import pickle as pkl\n",
    "import numpy as np"
   ]
  },
  {
   "cell_type": "code",
   "execution_count": 5,
   "id": "indonesian-bristol",
   "metadata": {},
   "outputs": [
    {
     "name": "stderr",
     "output_type": "stream",
     "text": [
      "/home/showalte/.conda/envs/nlpenv/lib/python3.8/site-packages/sklearn/base.py:310: UserWarning: Trying to unpickle estimator LabelEncoder from version 0.23.2 when using version 0.24.1. This might lead to breaking code or invalid results. Use at your own risk.\n",
      "  warnings.warn(\n"
     ]
    }
   ],
   "source": [
    "with open('artifacts/qual_samples.pkl','rb') as file:\n",
    "    d = pkl.load(file)"
   ]
  },
  {
   "cell_type": "code",
   "execution_count": 6,
   "id": "competitive-soldier",
   "metadata": {},
   "outputs": [
    {
     "name": "stdout",
     "output_type": "stream",
     "text": [
      "dict_keys(['pakistan_earthquake', 'dorian_wiki', 'idai_news_article', 'le'])\n"
     ]
    }
   ],
   "source": [
    "print(d.keys())"
   ]
  },
  {
   "cell_type": "code",
   "execution_count": 7,
   "id": "received-management",
   "metadata": {},
   "outputs": [
    {
     "name": "stdout",
     "output_type": "stream",
     "text": [
      "0 ['caution_and_advice']\n",
      "1 ['displaced_people_and_evacuations']\n",
      "2 ['infrastructure_and_utility_damage']\n",
      "3 ['injured_or_dead_people']\n",
      "4 ['missing_or_found_people']\n",
      "5 ['not_humanitarian']\n",
      "6 ['other_relevant_information']\n",
      "7 ['requests_or_urgent_needs']\n",
      "8 ['rescue_volunteering_or_donation_effort']\n",
      "9 ['sympathy_and_support']\n"
     ]
    }
   ],
   "source": [
    "for i in range(10):\n",
    "    print(i, d['le'].inverse_transform([i]))"
   ]
  },
  {
   "cell_type": "code",
   "execution_count": 8,
   "id": "wicked-henry",
   "metadata": {},
   "outputs": [],
   "source": [
    "crisis = 'dorian_wiki'"
   ]
  },
  {
   "cell_type": "code",
   "execution_count": 25,
   "id": "discrete-basement",
   "metadata": {},
   "outputs": [
    {
     "name": "stdout",
     "output_type": "stream",
     "text": [
      "['Hurricane', 'Dorian', 'was', 'an', 'extremely', 'powerful', 'and', 'catastrophic', 'Category', 'Atlantic', 'hurricane', 'which', 'became', 'the', 'most', 'intense', 'tropical', 'cyclone', 'on', 'record', 'to', 'strike', 'the', 'Bahamas', 'and', 'tied', 'for', 'strongest', 'landfall', 'in', 'the', 'Atlantic', 'basin']\n",
      "\n",
      "[(0, 'Hurricane', 0), (1, 'Dorian', 0), (2, 'was', 0), (3, 'an', 0), (4, 'extremely', 0), (5, 'powerful', 0), (6, 'and', 0), (7, 'catastrophic', 0), (8, 'Category', 0), (9, 'Atlantic', 0), (10, 'hurricane', 0), (11, 'which', 0), (12, 'became', 0), (13, 'the', 0), (14, 'most', 0), (15, 'intense', 0), (16, 'tropical', 0), (17, 'cyclone', 0), (18, 'on', 0), (19, 'record', 0), (20, 'to', 0), (21, 'strike', 0)]\n",
      "\n",
      "[[ 0  1  2  3  4  5  6  7  8  9 10 11 12 13 14 15 16 17 18 19 20 21 22 23\n",
      "  24 25 26 27 28 29 30 31 32]\n",
      " [ 0  0  0  0  0  0  0  0  0  0  0  0  0  0  0  0  0  0  0  0  0  0  0  0\n",
      "   0  0  0  0  0  0  0  0  0]]\n",
      "---------------------------------------------------------------------------\n",
      "['It', 'is', 'also', 'regarded', 'as', 'the', 'worst', 'natural', 'disaster', 'in', 'The', 'Bahamas', 'recorded', 'history', 'It', 'was', 'also', 'one', 'of', 'the', 'most', 'powerful', 'hurricanes', 'recorded', 'in', 'the', 'Atlantic', 'Ocean', 'in', 'terms', 'of', 'minute', 'sustained', 'winds', 'with', 'those', 'winds', 'peaking', 'at', '185', 'mph', '295', 'km']\n",
      "\n",
      "[(0, 'It', 6), (1, 'is', 6), (2, 'also', 6), (3, 'regarded', 6), (4, 'as', 6), (5, 'the', 6), (6, 'worst', 6), (7, 'natural', 6), (8, 'disaster', 6), (9, 'in', 6), (10, 'The', 6), (11, 'Bahamas', 6), (12, 'recorded', 6), (13, 'history', 6), (14, 'It', 6), (15, 'was', 6), (16, 'also', 6), (17, 'one', 6), (18, 'of', 6), (19, 'the', 6), (20, 'most', 6), (21, 'powerful', 6)]\n",
      "\n",
      "[[ 0  1  2  3  4  5  6  7  8  9 10 11 12 13 14 15 16 17 18 19 20 21 22 23\n",
      "  24 25 26 27 28 29 30 31 32 33 34 35 36 37 38 39 40 41 42]\n",
      " [ 6  6  6  6  6  6  6  6  6  6  6  6  6  6  6  6  6  6  6  6  6  6  6  6\n",
      "   6  6  6  6  6  6  6  6  6  6  6  6  6  6  6  6  6  6  6]]\n",
      "---------------------------------------------------------------------------\n",
      "['In', 'addition', 'Dorian', 'surpassed', 'Hurricane', 'Irma', 'of', '2017', 'to', 'become', 'the', 'most', 'powerful', 'Atlantic', 'hurricane', 'on', 'record', 'outside', 'of', 'the', 'Caribbean', 'Sea']\n",
      "\n",
      "[(0, 'In', 5), (1, 'addition', 5), (2, 'Dorian', 5), (3, 'surpassed', 5), (4, 'Hurricane', 5), (5, 'Irma', 5), (6, 'of', 5), (7, '2017', 5), (8, 'to', 5), (9, 'become', 5), (10, 'the', 5), (11, 'most', 5), (12, 'powerful', 5), (13, 'Atlantic', 5), (14, 'hurricane', 5), (15, 'on', 5), (16, 'record', 5), (17, 'outside', 5), (18, 'of', 5), (19, 'the', 5), (20, 'Caribbean', 5), (21, 'Sea', 5)]\n",
      "\n",
      "[[ 0  1  2  3  4  5  6  7  8  9 10 11 12 13 14 15 16 17 18 19 20 21]\n",
      " [ 5  5  5  5  5  5  5  5  5  5  5  5  5  5  5  5  5  5  5  5  5  5]]\n",
      "---------------------------------------------------------------------------\n",
      "['Dorian', 'was', 'the', 'fourth', 'named', 'storm', 'second', 'hurricane', 'the', 'first', 'major', 'hurricane', 'and', 'the', 'first', 'Category', 'hurricane', 'of', 'the', '2019', 'Atlantic', 'hurricane', 'season']\n",
      "\n",
      "[(0, 'Dorian', 6), (1, 'was', 6), (2, 'the', 6), (3, 'fourth', 6), (4, 'named', 6), (5, 'storm', 6), (6, 'second', 6), (7, 'hurricane', 6), (8, 'the', 6), (9, 'first', 6), (10, 'major', 6), (11, 'hurricane', 6), (12, 'and', 6), (13, 'the', 6), (14, 'first', 6), (15, 'Category', 6), (16, 'hurricane', 6), (17, 'of', 6), (18, 'the', 6), (19, '2019', 6), (20, 'Atlantic', 6), (21, 'hurricane', 6)]\n",
      "\n",
      "[[ 0  1  2  3  4  5  6  7  8  9 10 11 12 13 14 15 16 17 18 19 20 21 22]\n",
      " [ 6  6  6  6  6  6  6  6  6  6  6  6  6  6  6  6  6  6  6  6  6  6  6]]\n",
      "---------------------------------------------------------------------------\n",
      "['Dorian', 'struck', 'the', 'Abaco', 'Islands', 'on', 'September', 'with', 'maximum', 'sustained', 'winds', 'of', '185', 'mph', '295', 'km', 'tying', 'with', 'the', '1935', 'Labor', 'Day', 'hurricane', 'for', 'the', 'highest', 'wind', 'speeds', 'of', 'an', 'Atlantic', 'hurricane', 'ever', 'recorded', 'at', 'landfall']\n",
      "\n",
      "[(0, 'Dorian', 0), (1, 'struck', 0), (2, 'the', 0), (3, 'Abaco', 0), (4, 'Islands', 0), (5, 'on', 0), (6, 'September', 0), (7, 'with', 0), (8, 'maximum', 0), (9, 'sustained', 0), (10, 'winds', 0), (11, 'of', 0), (12, '185', 0), (13, 'mph', 0), (14, '295', 0), (15, 'km', 0), (16, 'tying', 0), (17, 'with', 0), (18, 'the', 0), (19, '1935', 0), (20, 'Labor', 0), (21, 'Day', 0)]\n",
      "\n",
      "[[ 0  1  2  3  4  5  6  7  8  9 10 11 12 13 14 15 16 17 18 19 20 21 22 23\n",
      "  24 25 26 27 28 29 30 31 32 33 34 35]\n",
      " [ 0  0  0  0  0  0  0  0  0  0  0  0  0  0  0  0  0  0  0  0  0  0  0  0\n",
      "   0  0  0  0  0  0  0  0  0  0  0  0]]\n",
      "---------------------------------------------------------------------------\n",
      "['Dorian', 'went', 'on', 'to', 'strike', 'Grand', 'Bahama', 'at', 'similar', 'intensity', 'stalling', 'just', 'north', 'of', 'the', 'territory', 'with', 'unrelenting', 'winds', 'for', 'at', 'least', '24', 'hours']\n",
      "\n",
      "[(0, 'Dorian', 6), (1, 'went', 6), (2, 'on', 6), (3, 'to', 6), (4, 'strike', 6), (5, 'Grand', 6), (6, 'Bahama', 6), (7, 'at', 6), (8, 'similar', 6), (9, 'intensity', 6), (10, 'stalling', 6), (11, 'just', 6), (12, 'north', 6), (13, 'of', 6), (14, 'the', 6), (15, 'territory', 6), (16, 'with', 6), (17, 'unrelenting', 6), (18, 'winds', 6), (19, 'for', 6), (20, 'at', 6), (21, 'least', 6)]\n",
      "\n",
      "[[ 0  1  2  3  4  5  6  7  8  9 10 11 12 13 14 15 16 17 18 19 20 21 22 23]\n",
      " [ 6  6  6  6  6  6  6  6  6  6  6  6  6  6  6  6  6  6  6  6  6  6  6  6]]\n",
      "---------------------------------------------------------------------------\n",
      "['The', 'resultant', 'damage', 'to', 'these', 'islands', 'was', 'catastrophic', 'most', 'structures', 'were', 'flattened', 'or', 'swept', 'to', 'sea', 'and', 'at', 'least', '70', '000', 'people', 'were', 'left', 'homeless']\n",
      "\n",
      "[(0, 'The', 2), (1, 'resultant', 2), (2, 'damage', 2), (3, 'to', 2), (4, 'these', 2), (5, 'islands', 2), (6, 'was', 2), (7, 'catastrophic', 2), (8, 'most', 2), (9, 'structures', 2), (10, 'were', 2), (11, 'flattened', 2), (12, 'or', 2), (13, 'swept', 2), (14, 'to', 2), (15, 'sea', 2), (16, 'and', 2), (17, 'at', 2), (18, 'least', 2), (19, '70', 2), (20, '000', 2), (21, 'people', 2)]\n",
      "\n",
      "[[ 0  1  2  3  4  5  6  7  8  9 10 11 12 13 14 15 16 17 18 19 20 21 22 23\n",
      "  24]\n",
      " [ 2  2  2  2  2  2  2  2  2  2  2  2  2  2  2  2  2  2  2  2  2  2  2  2\n",
      "   2]]\n",
      "---------------------------------------------------------------------------\n",
      "['After', 'it', 'ravaged', 'through', 'the', 'Bahamas', 'Dorian', 'proceeded', 'along', 'the', 'coasts', 'of', 'the', 'Southeastern', 'United', 'States', 'and', 'Atlantic', 'Canada', 'leaving', 'behind', 'considerable', 'damage', 'and', 'economic', 'losses', 'in', 'those', 'regions']\n",
      "\n",
      "[(0, 'After', 2), (1, 'it', 2), (2, 'ravaged', 2), (3, 'through', 2), (4, 'the', 2), (5, 'Bahamas', 2), (6, 'Dorian', 2), (7, 'proceeded', 2), (8, 'along', 2), (9, 'the', 2), (10, 'coasts', 2), (11, 'of', 2), (12, 'the', 2), (13, 'Southeastern', 2), (14, 'United', 2), (15, 'States', 2), (16, 'and', 2), (17, 'Atlantic', 2), (18, 'Canada', 2), (19, 'leaving', 2), (20, 'behind', 2), (21, 'considerable', 2)]\n",
      "\n",
      "[[ 0  1  2  3  4  5  6  7  8  9 10 11 12 13 14 15 16 17 18 19 20 21 22 23\n",
      "  24 25 26 27 28]\n",
      " [ 2  2  2  2  2  2  2  2  2  2  2  2  2  2  2  2  2  2  2  2  2  2  2  2\n",
      "   2  2  2  2  2]]\n",
      "---------------------------------------------------------------------------\n",
      "['Dorian', 'developed', 'from', 'tropical', 'wave', 'on', 'August', '24', 'over', 'the', 'Central', 'Atlantic']\n",
      "\n",
      "[(0, 'Dorian', 6), (1, 'developed', 6), (2, 'from', 6), (3, 'tropical', 6), (4, 'wave', 6), (5, 'on', 6), (6, 'August', 6), (7, '24', 6), (8, 'over', 6), (9, 'the', 6), (10, 'Central', 6), (11, 'Atlantic', 6)]\n",
      "\n",
      "[[ 0  1  2  3  4  5  6  7  8  9 10 11]\n",
      " [ 6  6  6  6  6  6  6  6  6  6  6  6]]\n",
      "---------------------------------------------------------------------------\n",
      "['The', 'storm', 'moved', 'through', 'the', 'Lesser', 'Antilles', 'and', 'became', 'hurricane', 'north', 'of', 'the', 'Greater', 'Antilles', 'on', 'August', '28']\n",
      "\n",
      "[(0, 'The', 0), (1, 'storm', 0), (2, 'moved', 0), (3, 'through', 0), (4, 'the', 0), (5, 'Lesser', 0), (6, 'Antilles', 0), (7, 'and', 0), (8, 'became', 0), (9, 'hurricane', 0), (10, 'north', 0), (11, 'of', 0), (12, 'the', 0), (13, 'Greater', 0), (14, 'Antilles', 0), (15, 'on', 0), (16, 'August', 0), (17, '28', 0)]\n",
      "\n",
      "[[ 0  1  2  3  4  5  6  7  8  9 10 11 12 13 14 15 16 17]\n",
      " [ 0  0  0  0  0  0  0  0  0  0  0  0  0  0  0  0  0  0]]\n",
      "---------------------------------------------------------------------------\n",
      "['Dorian', 'proceeded', 'to', 'undergo', 'rapid', 'intensification', 'over', 'the', 'following', 'days', 'before', 'reaching', 'its', 'peak', 'as', 'Category', 'hurricane', 'with', 'one', 'minute', 'sustained', 'winds', 'of', '185', 'mph', '295', 'km', 'and', 'minimum', 'central', 'pressure', 'of', '910', 'millibars', '26', '87', 'inHg', 'by', 'September']\n",
      "\n",
      "[(0, 'Dorian', 0), (1, 'proceeded', 0), (2, 'to', 0), (3, 'undergo', 0), (4, 'rapid', 0), (5, 'intensification', 0), (6, 'over', 0), (7, 'the', 0), (8, 'following', 0), (9, 'days', 0), (10, 'before', 0), (11, 'reaching', 0), (12, 'its', 0), (13, 'peak', 0), (14, 'as', 0), (15, 'Category', 0), (16, 'hurricane', 0), (17, 'with', 0), (18, 'one', 0), (19, 'minute', 0), (20, 'sustained', 0), (21, 'winds', 0)]\n",
      "\n",
      "[[ 0  1  2  3  4  5  6  7  8  9 10 11 12 13 14 15 16 17 18 19 20 21 22 23\n",
      "  24 25 26 27 28 29 30 31 32 33 34 35 36 37 38]\n",
      " [ 0  0  0  0  0  0  0  0  0  0  0  0  0  0  0  0  0  0  0  0  0  0  0  0\n",
      "   0  0  0  0  0  0  0  0  0  0  0  0  0  0  0]]\n",
      "---------------------------------------------------------------------------\n",
      "['It', 'made', 'landfall', 'in', 'the', 'Bahamas', 'in', 'Elbow', 'Cay', 'just', 'east', 'of', 'Abaco', 'Island', 'and', 'again', 'on', 'Grand', 'Bahama', 'several', 'hours', 'later', 'where', 'it', 'remained', 'nearly', 'stationary', 'for', 'the', 'next', 'day', 'or', 'so']\n",
      "\n",
      "[(0, 'It', 6), (1, 'made', 6), (2, 'landfall', 6), (3, 'in', 6), (4, 'the', 6), (5, 'Bahamas', 6), (6, 'in', 6), (7, 'Elbow', 6), (8, 'Cay', 6), (9, 'just', 6), (10, 'east', 6), (11, 'of', 6), (12, 'Abaco', 6), (13, 'Island', 6), (14, 'and', 6), (15, 'again', 6), (16, 'on', 6), (17, 'Grand', 6), (18, 'Bahama', 6), (19, 'several', 6), (20, 'hours', 6), (21, 'later', 6)]\n",
      "\n",
      "[[ 0  1  2  3  4  5  6  7  8  9 10 11 12 13 14 15 16 17 18 19 20 21 22 23\n",
      "  24 25 26 27 28 29 30 31 32]\n",
      " [ 6  6  6  6  6  6  6  6  6  6  6  6  6  6  6  6  6  6  6  6  6  6  6  6\n",
      "   6  6  6  6  6  6  6  6  6]]\n",
      "---------------------------------------------------------------------------\n",
      "['After', 'weakening', 'considerably', 'Dorian', 'began', 'moving', 'northwestward', 'on', 'September', 'parallel', 'to', 'the', 'east', 'coast', 'of', 'Florida']\n",
      "\n",
      "[(0, 'After', 0), (1, 'weakening', 0), (2, 'considerably', 0), (3, 'Dorian', 0), (4, 'began', 0), (5, 'moving', 0), (6, 'northwestward', 0), (7, 'on', 0), (8, 'September', 0), (9, 'parallel', 0), (10, 'to', 0), (11, 'the', 0), (12, 'east', 0), (13, 'coast', 0), (14, 'of', 0), (15, 'Florida', 0)]\n",
      "\n",
      "[[ 0  1  2  3  4  5  6  7  8  9 10 11 12 13 14 15]\n",
      " [ 0  0  0  0  0  0  0  0  0  0  0  0  0  0  0  0]]\n",
      "---------------------------------------------------------------------------\n",
      "['Dwindling', 'in', 'strength', 'the', 'hurricane', 'turned', 'to', 'the', 'northeast', 'the', 'next', 'day', 'and', 'made', 'landfall', 'on', 'Cape', 'Hatteras', 'at', 'Category', 'intensity', 'on', 'September']\n",
      "\n",
      "[(0, 'Dwindling', 0), (1, 'in', 0), (2, 'strength', 0), (3, 'the', 0), (4, 'hurricane', 0), (5, 'turned', 0), (6, 'to', 0), (7, 'the', 0), (8, 'northeast', 0), (9, 'the', 0), (10, 'next', 0), (11, 'day', 0), (12, 'and', 0), (13, 'made', 0), (14, 'landfall', 0), (15, 'on', 0), (16, 'Cape', 0), (17, 'Hatteras', 0), (18, 'at', 0), (19, 'Category', 0), (20, 'intensity', 0), (21, 'on', 0)]\n",
      "\n",
      "[[ 0  1  2  3  4  5  6  7  8  9 10 11 12 13 14 15 16 17 18 19 20 21 22]\n",
      " [ 0  0  0  0  0  0  0  0  0  0  0  0  0  0  0  0  0  0  0  0  0  0  0]]\n",
      "---------------------------------------------------------------------------\n",
      "['Dorian', 'transitioned', 'into', 'an', 'extratropical', 'cyclone', 'on', 'September', 'before', 'striking', 'first', 'Nova', 'Scotia', 'and', 'then', 'Newfoundland', 'with', 'hurricane', 'force', 'winds', 'on', 'the', 'next', 'day', 'The', 'storm', 'finally', 'dissipated', 'near', 'Greenland', 'on', 'September', '10']\n",
      "\n",
      "[(0, 'Dorian', 0), (1, 'transitioned', 0), (2, 'into', 0), (3, 'an', 0), (4, 'extratropical', 0), (5, 'cyclone', 0), (6, 'on', 0), (7, 'September', 0), (8, 'before', 0), (9, 'striking', 0), (10, 'first', 0), (11, 'Nova', 0), (12, 'Scotia', 0), (13, 'and', 0), (14, 'then', 0), (15, 'Newfoundland', 0), (16, 'with', 0), (17, 'hurricane', 0), (18, 'force', 0), (19, 'winds', 0), (20, 'on', 0), (21, 'the', 0)]\n",
      "\n",
      "[[ 0  1  2  3  4  5  6  7  8  9 10 11 12 13 14 15 16 17 18 19 20 21 22 23\n",
      "  24 25 26 27 28 29 30 31 32]\n",
      " [ 0  0  0  0  0  0  0  0  0  0  0  0  0  0  0  0  0  0  0  0  0  0  0  0\n",
      "   0  0  0  0  0  0  0  0  0]]\n",
      "---------------------------------------------------------------------------\n",
      "['From', 'August', '26', 'to', 'August', '28', 'the', 'storm', 'affected', 'several', 'parts', 'of', 'the', 'northernmost', 'Lesser', 'Antilles']\n",
      "\n",
      "[(0, 'From', 6), (1, 'August', 6), (2, '26', 6), (3, 'to', 6), (4, 'August', 6), (5, '28', 6), (6, 'the', 6), (7, 'storm', 6), (8, 'affected', 6), (9, 'several', 6), (10, 'parts', 6), (11, 'of', 6), (12, 'the', 6), (13, 'northernmost', 6), (14, 'Lesser', 6), (15, 'Antilles', 6)]\n",
      "\n",
      "[[ 0  1  2  3  4  5  6  7  8  9 10 11 12 13 14 15]\n",
      " [ 6  6  6  6  6  6  6  6  6  6  6  6  6  6  6  6]]\n",
      "---------------------------------------------------------------------------\n",
      "['Damaging', 'winds', 'primarily', 'affected', 'the', 'Virgin', 'Islands', 'where', 'gusts', 'reached', '111', 'mph', '179', 'km', 'Extensive', 'precautionary', 'measures', 'were', 'taken', 'to', 'mitigate', 'damage', 'especially', 'in', 'Puerto', 'Rico', 'where', 'one', 'person', 'died']\n",
      "\n",
      "[(0, 'Damaging', 2), (1, 'winds', 2), (2, 'primarily', 2), (3, 'affected', 2), (4, 'the', 2), (5, 'Virgin', 2), (6, 'Islands', 2), (7, 'where', 2), (8, 'gusts', 2), (9, 'reached', 2), (10, '111', 2), (11, 'mph', 2), (12, '179', 2), (13, 'km', 2), (14, 'Extensive', 2), (15, 'precautionary', 2), (16, 'measures', 2), (17, 'were', 2), (18, 'taken', 2), (19, 'to', 2), (20, 'mitigate', 2), (21, 'damage', 2)]\n",
      "\n",
      "[[ 0  1  2  3  4  5  6  7  8  9 10 11 12 13 14 15 16 17 18 19 20 21 22 23\n",
      "  24 25 26 27 28 29]\n",
      " [ 2  2  2  2  2  2  2  2  2  2  2  2  2  2  2  2  2  2  2  2  2  2  2  2\n",
      "   2  2  2  2  2  2]]\n",
      "---------------------------------------------------------------------------\n",
      "['Elsewhere', 'in', 'the', 'Lesser', 'Antilles', 'impacts', 'from', 'the', 'storm', 'were', 'relatively', 'minor']\n",
      "\n",
      "[(0, 'Elsewhere', 6), (1, 'in', 6), (2, 'the', 6), (3, 'Lesser', 6), (4, 'Antilles', 6), (5, 'impacts', 6), (6, 'from', 6), (7, 'the', 6), (8, 'storm', 6), (9, 'were', 6), (10, 'relatively', 6), (11, 'minor', 6)]\n",
      "\n",
      "[[ 0  1  2  3  4  5  6  7  8  9 10 11]\n",
      " [ 6  6  6  6  6  6  6  6  6  6  6  6]]\n",
      "---------------------------------------------------------------------------\n",
      "['In', 'preparation', 'for', 'the', 'storm', 'the', 'states', 'of', 'Florida', 'Georgia', 'South', 'Carolina', 'North', 'Carolina', 'and', 'Virginia', 'all', 'declared', 'state', 'of', 'emergency', 'and', 'many', 'coastal', 'counties', 'from', 'Florida', 'to', 'North', 'Carolina', 'issued', 'mandatory', 'evacuation', 'orders']\n",
      "\n",
      "[(0, 'In', 0), (1, 'preparation', 0), (2, 'for', 0), (3, 'the', 0), (4, 'storm', 0), (5, 'the', 0), (6, 'states', 0), (7, 'of', 0), (8, 'Florida', 0), (9, 'Georgia', 0), (10, 'South', 0), (11, 'Carolina', 0), (12, 'North', 0), (13, 'Carolina', 0), (14, 'and', 0), (15, 'Virginia', 0), (16, 'all', 0), (17, 'declared', 0), (18, 'state', 0), (19, 'of', 0), (20, 'emergency', 0), (21, 'and', 0)]\n",
      "\n",
      "[[ 0  1  2  3  4  5  6  7  8  9 10 11 12 13 14 15 16 17 18 19 20 21 22 23\n",
      "  24 25 26 27 28 29 30 31 32 33]\n",
      " [ 0  0  0  0  0  0  0  0  0  0  0  0  0  0  0  0  0  0  0  0  0  0  0  0\n",
      "   0  0  0  0  1  1  1  1  1  1]]\n",
      "---------------------------------------------------------------------------\n",
      "['Damage', 'in', 'the', 'Bahamas', 'was', 'catastrophic', 'due', 'to', 'the', 'prolonged', 'and', 'intense', 'storm', 'conditions', 'including', 'heavy', 'rainfall', 'high', 'winds', 'and', 'storm', 'surge', 'with', 'thousands', 'of', 'homes', 'destroyed', 'and', 'at', 'least', '77', 'direct', 'deaths', 'recorded', '74', 'of', 'which', 'occurred', 'in', 'the', 'Bahamas']\n",
      "\n",
      "[(0, 'Damage', 2), (1, 'in', 2), (2, 'the', 2), (3, 'Bahamas', 2), (4, 'was', 2), (5, 'catastrophic', 2), (6, 'due', 2), (7, 'to', 2), (8, 'the', 2), (9, 'prolonged', 2), (10, 'and', 2), (11, 'intense', 2), (12, 'storm', 2), (13, 'conditions', 2), (14, 'including', 2), (15, 'heavy', 2), (16, 'rainfall', 2), (17, 'high', 2), (18, 'winds', 2), (19, 'and', 2), (20, 'storm', 2), (21, 'surge', 2)]\n",
      "\n",
      "[[ 0  1  2  3  4  5  6  7  8  9 10 11 12 13 14 15 16 17 18 19 20 21 22 23\n",
      "  24 25 26 27 28 29 30 31 32 33 34 35 36 37 38 39 40]\n",
      " [ 2  2  2  2  2  2  2  2  2  2  2  2  2  2  2  2  2  2  2  2  2  2  2  2\n",
      "   2  2  2  2  2  2  2  2  3  3  3  3  3  3  2  2  2]]\n",
      "---------------------------------------------------------------------------\n",
      "['The', 'true', 'death', 'toll', 'is', 'unknown', 'with', '245', 'people', 'still', 'missing', 'as', 'of', 'April', '2020']\n",
      "\n",
      "[(0, 'The', 3), (1, 'true', 3), (2, 'death', 3), (3, 'toll', 3), (4, 'is', 3), (5, 'unknown', 3), (6, 'with', 3), (7, '245', 3), (8, 'people', 3), (9, 'still', 3), (10, 'missing', 3), (11, 'as', 3), (12, 'of', 3), (13, 'April', 3), (14, '2020', 3)]\n",
      "\n",
      "[[ 0  1  2  3  4  5  6  7  8  9 10 11 12 13 14]\n",
      " [ 3  3  3  3  3  3  3  3  3  3  3  3  3  3  3]]\n",
      "---------------------------------------------------------------------------\n",
      "['Dorian', 'is', 'the', 'costliest', 'disaster', 'in', 'Bahamian', 'history', 'estimated', 'to', 'have', 'left', 'behind', 'billion', '2020', 'USD', 'in', 'damage', 'in', 'that', 'country', 'while', 'causing', 'total', 'of', 'billion', 'in', 'damage', 'overall']\n",
      "\n",
      "[(0, 'Dorian', 2), (1, 'is', 2), (2, 'the', 2), (3, 'costliest', 2), (4, 'disaster', 2), (5, 'in', 2), (6, 'Bahamian', 2), (7, 'history', 2), (8, 'estimated', 2), (9, 'to', 2), (10, 'have', 2), (11, 'left', 2), (12, 'behind', 2), (13, 'billion', 2), (14, '2020', 2), (15, 'USD', 2), (16, 'in', 2), (17, 'damage', 2), (18, 'in', 2), (19, 'that', 2), (20, 'country', 2), (21, 'while', 2)]\n",
      "\n",
      "[[ 0  1  2  3  4  5  6  7  8  9 10 11 12 13 14 15 16 17 18 19 20 21 22 23\n",
      "  24 25 26 27 28]\n",
      " [ 2  2  2  2  2  2  2  2  2  2  2  2  2  2  2  2  2  2  2  2  2  2  2  2\n",
      "   2  2  2  2  2]]\n",
      "---------------------------------------------------------------------------\n"
     ]
    }
   ],
   "source": [
    "for j in range(len(d[crisis]['tokens'])):\n",
    "#     print(j)\n",
    "    print(d[crisis]['tokens'][j]) \n",
    "    print()\n",
    "    print([(i,d,e) for i,d,e in zip(range(len(d[crisis]['tokens'])), d[crisis]['tokens'][j],d[crisis]['preds'][j])])\n",
    "    print()\n",
    "    index = np.array(list(range(len(d[crisis]['preds'][j]))))\n",
    "    preds = np.array(d[crisis]['preds'][j])\n",
    "    print(np.vstack((index,preds)))\n",
    "    print(\"-----\"*15)"
   ]
  },
  {
   "cell_type": "code",
   "execution_count": null,
   "id": "extraordinary-fruit",
   "metadata": {},
   "outputs": [],
   "source": []
  }
 ],
 "metadata": {
  "kernelspec": {
   "display_name": "nlp_env",
   "language": "python",
   "name": "nlpenv"
  },
  "language_info": {
   "codemirror_mode": {
    "name": "ipython",
    "version": 3
   },
   "file_extension": ".py",
   "mimetype": "text/x-python",
   "name": "python",
   "nbconvert_exporter": "python",
   "pygments_lexer": "ipython3",
   "version": "3.8.8"
  }
 },
 "nbformat": 4,
 "nbformat_minor": 5
}
